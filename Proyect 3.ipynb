{
 "cells": [
  {
   "cell_type": "markdown",
   "metadata": {
    "id": "E0vqbgi9ay0H"
   },
   "source": [
    "# Déjame escuchar la música"
   ]
  },
  {
   "cell_type": "markdown",
   "metadata": {
    "id": "fhq_eyov_Zcs"
   },
   "source": [
    "# Contenido <a id='back'></a>\n",
    "\n",
    "* [Introducción](#intro)\n",
    "* [Etapa 1. Descripción de los datos](#data_review)\n",
    "    * [Conclusiones](#data_review_conclusions)\n",
    "* [Etapa 2. Preprocesamiento de datos](#data_preprocessing)\n",
    "    * [2.1 Estilo del encabezado](#header_style)\n",
    "    * [2.2 Valores ausentes](#missing_values)\n",
    "    * [2.3 Duplicados](#duplicates)\n",
    "    * [2.4 Conclusiones](#data_preprocessing_conclusions)\n",
    "* [Etapa 3. Prueba de hipótesis](#hypothesis)\n",
    "    * [3.1 Hipótesis 1: actividad de los usuarios y las usuarias en las dos ciudades](#activity)\n",
    "* [Conclusiones](#end)"
   ]
  },
  {
   "cell_type": "markdown",
   "metadata": {
    "id": "VUC88oWjTJw2"
   },
   "source": [
    "## Introducción <a id='intro'></a>\n",
    "Como analista de datos, tu trabajo consiste en analizar datos para extraer información valiosa y tomar decisiones basadas en ellos. Esto implica diferentes etapas, como la descripción general de los datos, el preprocesamiento y la prueba de hipótesis.\n",
    "\n",
    "Siempre que investigamos, necesitamos formular hipótesis que después podamos probar. A veces aceptamos estas hipótesis; otras veces, las rechazamos. Para tomar las decisiones correctas, una empresa debe ser capaz de entender si está haciendo las suposiciones correctas.\n",
    "\n",
    "En este proyecto, compararás las preferencias musicales de las ciudades de Springfield y Shelbyville. Estudiarás datos reales de transmisión de música online para probar la hipótesis a continuación y comparar el comportamiento de los usuarios y las usuarias de estas dos ciudades.\n",
    "\n",
    "### Objetivo:\n",
    "Prueba la hipótesis:\n",
    "1. La actividad de los usuarios y las usuarias difiere según el día de la semana y dependiendo de la ciudad.\n",
    "\n",
    "\n",
    "### Etapas\n",
    "Los datos del comportamiento del usuario se almacenan en el archivo `/datasets/music_project_en.csv`. No hay ninguna información sobre la calidad de los datos, así que necesitarás examinarlos antes de probar la hipótesis.\n",
    "\n",
    "Primero, evaluarás la calidad de los datos y verás si los problemas son significativos. Entonces, durante el preprocesamiento de datos, tomarás en cuenta los problemas más críticos.\n",
    "\n",
    "Tu proyecto consistirá en tres etapas:\n",
    " 1. Descripción de los datos.\n",
    " 2. Preprocesamiento de datos.\n",
    " 3. Prueba de hipótesis.\n",
    "\n",
    "\n",
    "\n",
    "\n",
    "\n",
    "\n"
   ]
  },
  {
   "cell_type": "markdown",
   "metadata": {
    "id": "hDt6pg-Rw-1U"
   },
   "source": [
    "[Volver a Contenidos](#back)"
   ]
  },
  {
   "cell_type": "markdown",
   "metadata": {
    "id": "Ml1hmfXC_Zcs"
   },
   "source": [
    "## Etapa 1. Descripción de los datos <a id='data_review'></a>\n",
    "\n",
    "Abre los datos y examínalos."
   ]
  },
  {
   "cell_type": "markdown",
   "metadata": {
    "id": "57eAOGIz_Zcs"
   },
   "source": [
    "Necesitarás `pandas`, así que impórtalo."
   ]
  },
  {
   "cell_type": "code",
   "execution_count": 31,
   "metadata": {
    "id": "AXN7PHPN_Zcs"
   },
   "outputs": [],
   "source": [
    "# Importar pandas\n",
    "import pandas as pd"
   ]
  },
  {
   "cell_type": "markdown",
   "metadata": {
    "id": "SG23P8tt_Zcs"
   },
   "source": [
    "Lee el archivo `music_project_en.csv` de la carpeta `/datasets/` y guárdalo en la variable `df`:"
   ]
  },
  {
   "cell_type": "code",
   "execution_count": 32,
   "metadata": {
    "id": "fFVu7vqh_Zct"
   },
   "outputs": [],
   "source": [
    "# Leer el archivo y almacenarlo en df\n",
    "df = pd.read_csv('music_project_en.csv')"
   ]
  },
  {
   "cell_type": "markdown",
   "metadata": {
    "id": "rDoOMd3uTqnZ"
   },
   "source": [
    "Muestra las 10 primeras filas de la tabla:"
   ]
  },
  {
   "cell_type": "code",
   "execution_count": 33,
   "metadata": {
    "id": "oWTVX3gW_Zct"
   },
   "outputs": [
    {
     "data": {
      "text/html": [
       "<div>\n",
       "<style scoped>\n",
       "    .dataframe tbody tr th:only-of-type {\n",
       "        vertical-align: middle;\n",
       "    }\n",
       "\n",
       "    .dataframe tbody tr th {\n",
       "        vertical-align: top;\n",
       "    }\n",
       "\n",
       "    .dataframe thead th {\n",
       "        text-align: right;\n",
       "    }\n",
       "</style>\n",
       "<table border=\"1\" class=\"dataframe\">\n",
       "  <thead>\n",
       "    <tr style=\"text-align: right;\">\n",
       "      <th></th>\n",
       "      <th>userID</th>\n",
       "      <th>Track</th>\n",
       "      <th>artist</th>\n",
       "      <th>genre</th>\n",
       "      <th>City</th>\n",
       "      <th>time</th>\n",
       "      <th>Day</th>\n",
       "    </tr>\n",
       "  </thead>\n",
       "  <tbody>\n",
       "    <tr>\n",
       "      <th>0</th>\n",
       "      <td>FFB692EC</td>\n",
       "      <td>Kamigata To Boots</td>\n",
       "      <td>The Mass Missile</td>\n",
       "      <td>rock</td>\n",
       "      <td>Shelbyville</td>\n",
       "      <td>20:28:33</td>\n",
       "      <td>Wednesday</td>\n",
       "    </tr>\n",
       "    <tr>\n",
       "      <th>1</th>\n",
       "      <td>55204538</td>\n",
       "      <td>Delayed Because of Accident</td>\n",
       "      <td>Andreas Rönnberg</td>\n",
       "      <td>rock</td>\n",
       "      <td>Springfield</td>\n",
       "      <td>14:07:09</td>\n",
       "      <td>Friday</td>\n",
       "    </tr>\n",
       "    <tr>\n",
       "      <th>2</th>\n",
       "      <td>20EC38</td>\n",
       "      <td>Funiculì funiculà</td>\n",
       "      <td>Mario Lanza</td>\n",
       "      <td>pop</td>\n",
       "      <td>Shelbyville</td>\n",
       "      <td>20:58:07</td>\n",
       "      <td>Wednesday</td>\n",
       "    </tr>\n",
       "    <tr>\n",
       "      <th>3</th>\n",
       "      <td>A3DD03C9</td>\n",
       "      <td>Dragons in the Sunset</td>\n",
       "      <td>Fire + Ice</td>\n",
       "      <td>folk</td>\n",
       "      <td>Shelbyville</td>\n",
       "      <td>08:37:09</td>\n",
       "      <td>Monday</td>\n",
       "    </tr>\n",
       "    <tr>\n",
       "      <th>4</th>\n",
       "      <td>E2DC1FAE</td>\n",
       "      <td>Soul People</td>\n",
       "      <td>Space Echo</td>\n",
       "      <td>dance</td>\n",
       "      <td>Springfield</td>\n",
       "      <td>08:34:34</td>\n",
       "      <td>Monday</td>\n",
       "    </tr>\n",
       "    <tr>\n",
       "      <th>5</th>\n",
       "      <td>842029A1</td>\n",
       "      <td>Chains</td>\n",
       "      <td>Obladaet</td>\n",
       "      <td>rusrap</td>\n",
       "      <td>Shelbyville</td>\n",
       "      <td>13:09:41</td>\n",
       "      <td>Friday</td>\n",
       "    </tr>\n",
       "    <tr>\n",
       "      <th>6</th>\n",
       "      <td>4CB90AA5</td>\n",
       "      <td>True</td>\n",
       "      <td>Roman Messer</td>\n",
       "      <td>dance</td>\n",
       "      <td>Springfield</td>\n",
       "      <td>13:00:07</td>\n",
       "      <td>Wednesday</td>\n",
       "    </tr>\n",
       "    <tr>\n",
       "      <th>7</th>\n",
       "      <td>F03E1C1F</td>\n",
       "      <td>Feeling This Way</td>\n",
       "      <td>Polina Griffith</td>\n",
       "      <td>dance</td>\n",
       "      <td>Springfield</td>\n",
       "      <td>20:47:49</td>\n",
       "      <td>Wednesday</td>\n",
       "    </tr>\n",
       "    <tr>\n",
       "      <th>8</th>\n",
       "      <td>8FA1D3BE</td>\n",
       "      <td>L’estate</td>\n",
       "      <td>Julia Dalia</td>\n",
       "      <td>ruspop</td>\n",
       "      <td>Springfield</td>\n",
       "      <td>09:17:40</td>\n",
       "      <td>Friday</td>\n",
       "    </tr>\n",
       "    <tr>\n",
       "      <th>9</th>\n",
       "      <td>E772D5C0</td>\n",
       "      <td>Pessimist</td>\n",
       "      <td>NaN</td>\n",
       "      <td>dance</td>\n",
       "      <td>Shelbyville</td>\n",
       "      <td>21:20:49</td>\n",
       "      <td>Wednesday</td>\n",
       "    </tr>\n",
       "  </tbody>\n",
       "</table>\n",
       "</div>"
      ],
      "text/plain": [
       "     userID                        Track            artist   genre  \\\n",
       "0  FFB692EC            Kamigata To Boots  The Mass Missile    rock   \n",
       "1  55204538  Delayed Because of Accident  Andreas Rönnberg    rock   \n",
       "2    20EC38            Funiculì funiculà       Mario Lanza     pop   \n",
       "3  A3DD03C9        Dragons in the Sunset        Fire + Ice    folk   \n",
       "4  E2DC1FAE                  Soul People        Space Echo   dance   \n",
       "5  842029A1                       Chains          Obladaet  rusrap   \n",
       "6  4CB90AA5                         True      Roman Messer   dance   \n",
       "7  F03E1C1F             Feeling This Way   Polina Griffith   dance   \n",
       "8  8FA1D3BE                     L’estate       Julia Dalia  ruspop   \n",
       "9  E772D5C0                    Pessimist               NaN   dance   \n",
       "\n",
       "        City        time        Day  \n",
       "0  Shelbyville  20:28:33  Wednesday  \n",
       "1  Springfield  14:07:09     Friday  \n",
       "2  Shelbyville  20:58:07  Wednesday  \n",
       "3  Shelbyville  08:37:09     Monday  \n",
       "4  Springfield  08:34:34     Monday  \n",
       "5  Shelbyville  13:09:41     Friday  \n",
       "6  Springfield  13:00:07  Wednesday  \n",
       "7  Springfield  20:47:49  Wednesday  \n",
       "8  Springfield  09:17:40     Friday  \n",
       "9  Shelbyville  21:20:49  Wednesday  "
      ]
     },
     "execution_count": 33,
     "metadata": {},
     "output_type": "execute_result"
    }
   ],
   "source": [
    "# Obtener las 10 primeras filas de la tabla df\n",
    "df.head(10)"
   ]
  },
  {
   "cell_type": "markdown",
   "metadata": {
    "id": "EO73Kwic_Zct"
   },
   "source": [
    "Obtén la información general sobre la tabla con un comando. Conoces el método que muestra la información general que necesitamos."
   ]
  },
  {
   "cell_type": "code",
   "execution_count": 34,
   "metadata": {
    "id": "DSf2kIb-_Zct"
   },
   "outputs": [
    {
     "name": "stdout",
     "output_type": "stream",
     "text": [
      "          userID  Track     artist  genre       City        time     Day\n",
      "count      65079  63736      57512  63881        65079     65079   65079\n",
      "unique     41748  39666      37806    268            2     20392       3\n",
      "top     A8AE9169  Brand  Kartvelli    pop  Springfield  08:14:07  Friday\n",
      "freq          76    136        136   8850        45360        14   23149\n"
     ]
    }
   ],
   "source": [
    "# Obtener la información general sobre nuestros datos\n",
    "print(df.describe())"
   ]
  },
  {
   "cell_type": "markdown",
   "metadata": {
    "id": "TaQ2Iwbr_Zct"
   },
   "source": [
    "Estas son nuestras observaciones sobre la tabla. Contiene siete columnas. Almacenan los mismos tipos de datos: `object`.\n",
    "\n",
    "Según la documentación:\n",
    "- `' userID'`: identificador del usuario o la usuaria;\n",
    "- `'Track'`: título de la canción;\n",
    "- `'artist'`: nombre del artista;\n",
    "- `'genre'`: género de la pista;\n",
    "- `'City'`: ciudad del usuario o la usuaria;\n",
    "- `'time'`: la hora exacta en la que se reprodujo la canción;\n",
    "- `'Day'`: día de la semana.\n",
    "\n",
    "Podemos ver tres problemas con el estilo en los encabezados de la tabla:\n",
    "1. Algunos encabezados están en mayúsculas, otros en minúsculas.\n",
    "2. Hay espacios en algunos encabezados.\n",
    "3. Es mejor utilizar snake case para el nombre de una columna que tenga 2 a mas palabras\n",
    "\n",
    "\n",
    "\n"
   ]
  },
  {
   "cell_type": "markdown",
   "metadata": {
    "id": "MCB6-dXG_Zct"
   },
   "source": [
    "### Escribe observaciones de tu parte. Estas son algunas de las preguntas que pueden ser útiles: <a id='data_review_conclusions'></a>\n",
    "\n",
    "`1.   ¿Qué tipo de datos tenemos a nuestra disposición en las filas? ¿Y cómo podemos entender lo que almacenan las columnas?`\n",
    "        RPTA: Las filas en su totalidad contendran el tipo de dato \"object\" el cual es normalmente utilizado para cadenas de texto o (strings) pero a su ves puede guardar cualquier objeto de python \n",
    "\n",
    "`2.   ¿Hay suficientes datos para proporcionar respuestas a nuestra hipótesis o necesitamos más información?`\n",
    "        RPTA: Si ya que como dice la hipotesis queremos saber, `La actividad de los usuarios y las usuarias difiere según el día de la semana y dependiendo de la ciudad.`La columna city y Day seran directamente relevantes para responder a nuestra hipotesis\n",
    "\n",
    "`3.   ¿Notaste algún problema en los datos, como valores ausentes, duplicados o tipos de datos incorrectos?`\n",
    "        RPTA: A simple vista no hay datos duplicados y tampoco hay valores ausentes y en mi opinion esta bien utilizar tipo de datos para cadenas de texto (object)"
   ]
  },
  {
   "cell_type": "markdown",
   "metadata": {
    "id": "3eL__vcwViOi"
   },
   "source": [
    "[Volver a Contenidos](#back)"
   ]
  },
  {
   "cell_type": "markdown",
   "metadata": {
    "id": "SjYF6Ub9_Zct"
   },
   "source": [
    "## Etapa 2. Preprocesamiento de datos <a id='data_preprocessing'></a>\n",
    "\n",
    "El objetivo aquí es preparar los datos para que sean analizados.\n",
    "El primer paso es resolver cualquier problema con los encabezados. Luego podemos avanzar a los valores ausentes y duplicados. Empecemos.\n",
    "\n",
    "Corrige el formato en los encabezados de la tabla.\n"
   ]
  },
  {
   "cell_type": "markdown",
   "metadata": {
    "id": "dIaKXr29_Zct"
   },
   "source": [
    "### Estilo del encabezado <a id='header_style'></a>\n",
    "Muestra los encabezados de la tabla (los nombres de las columnas):"
   ]
  },
  {
   "cell_type": "code",
   "execution_count": 35,
   "metadata": {
    "id": "oKOTdF_Q_Zct"
   },
   "outputs": [
    {
     "name": "stdout",
     "output_type": "stream",
     "text": [
      "Index(['  userID', 'Track', 'artist', 'genre', '  City  ', 'time', 'Day'], dtype='object')\n"
     ]
    }
   ],
   "source": [
    "# Muestra los nombres de las columnas\n",
    "print(df.columns)"
   ]
  },
  {
   "cell_type": "markdown",
   "metadata": {
    "id": "zj5534cv_Zct"
   },
   "source": [
    "Cambia los encabezados de la tabla de acuerdo con las reglas del buen estilo:\n",
    "* Todos los caracteres deben ser minúsculas.\n",
    "* Elimina los espacios.\n",
    "* Si el nombre tiene varias palabras, utiliza snake_case."
   ]
  },
  {
   "cell_type": "markdown",
   "metadata": {
    "id": "Xu0zkfe5zNJe"
   },
   "source": [
    "Anteriormente, aprendiste acerca de la forma automática de cambiar el nombre de las columnas. Vamos a aplicarla ahora. Utiliza el bucle for para iterar sobre los nombres de las columnas y poner todos los caracteres en minúsculas. Cuando hayas terminado, vuelve a mostrar los encabezados de la tabla:"
   ]
  },
  {
   "cell_type": "code",
   "execution_count": 36,
   "metadata": {
    "id": "6I_RwwMhzM4e"
   },
   "outputs": [],
   "source": [
    "# Bucle en los encabezados poniendo todo en minúsculas\n",
    "\n",
    "def convertir_columnas_a_minusculas(df):\n",
    "    nuevas_columnas = []\n",
    "    for col in df.columns:\n",
    "        nuevas_columnas.append(col.lower())\n",
    "    df.columns = nuevas_columnas\n",
    "    return df\n",
    "\n",
    "\n",
    "df = convertir_columnas_a_minusculas(df)"
   ]
  },
  {
   "cell_type": "code",
   "execution_count": 37,
   "metadata": {
    "id": "vVQXbFyJzSYl"
   },
   "outputs": [],
   "source": [
    "# Bucle en los encabezados eliminando los espacios\n",
    "def eliminar_espacios(df):\n",
    "    espacios_eliminados = []\n",
    "    for col in df.columns:\n",
    "        espacios_eliminados.append(col.strip())\n",
    "    df.columns = espacios_eliminados\n",
    "    return df\n",
    "\n",
    "\n",
    "df = eliminar_espacios(df)"
   ]
  },
  {
   "cell_type": "markdown",
   "metadata": {
    "id": "pweIRxjSzPYW"
   },
   "source": [
    "Ahora, utilizando el mismo método, elimina los espacios al principio y al final de los nombres de las columnas e imprime los nombres de las columnas nuevamente:"
   ]
  },
  {
   "cell_type": "markdown",
   "metadata": {
    "id": "yCb8MW1JzURd"
   },
   "source": [
    "Necesitamos aplicar la regla de snake_case a la columna `userid`. Debe ser `user_id`. Cambia el nombre de esta columna y muestra los nombres de todas las columnas cuando hayas terminado."
   ]
  },
  {
   "cell_type": "code",
   "execution_count": 38,
   "metadata": {
    "id": "ISlFqs5y_Zct"
   },
   "outputs": [],
   "source": [
    "# Cambiar el nombre de la columna \"userid\"\n",
    "new_name = {\n",
    "    \"userid\" : \"user_id\"\n",
    "}\n",
    "\n",
    "df.rename(columns = new_name , inplace = True)\n"
   ]
  },
  {
   "cell_type": "markdown",
   "metadata": {
    "id": "1dqbh00J_Zct"
   },
   "source": [
    "Comprueba el resultado. Muestra los encabezados una vez más:"
   ]
  },
  {
   "cell_type": "code",
   "execution_count": 39,
   "metadata": {
    "id": "d4NOAmTW_Zct"
   },
   "outputs": [
    {
     "name": "stdout",
     "output_type": "stream",
     "text": [
      "Index(['user_id', 'track', 'artist', 'genre', 'city', 'time', 'day'], dtype='object')\n"
     ]
    }
   ],
   "source": [
    "# Comprobar el resultado: la lista de encabezados\n",
    "print(df.columns)"
   ]
  },
  {
   "cell_type": "markdown",
   "metadata": {
    "id": "xYJk6ksJVpOl"
   },
   "source": [
    "[Volver a Contenidos](#back)"
   ]
  },
  {
   "cell_type": "markdown",
   "metadata": {
    "id": "5ISfbcfY_Zct"
   },
   "source": [
    "### Valores ausentes <a id='missing_values'></a>\n",
    " Primero, encuentra el número de valores ausentes en la tabla. Debes utilizar dos métodos en una secuencia para obtener el número de valores ausentes."
   ]
  },
  {
   "cell_type": "code",
   "execution_count": 40,
   "metadata": {
    "id": "RskX29qr_Zct"
   },
   "outputs": [
    {
     "name": "stdout",
     "output_type": "stream",
     "text": [
      "user_id       0\n",
      "track      1343\n",
      "artist     7567\n",
      "genre      1198\n",
      "city          0\n",
      "time          0\n",
      "day           0\n",
      "dtype: int64\n"
     ]
    }
   ],
   "source": [
    "# Calcular el número de valores ausentes\n",
    "print(df.isna().sum())"
   ]
  },
  {
   "cell_type": "markdown",
   "metadata": {
    "id": "qubhgnlO_Zct"
   },
   "source": [
    "No todos los valores ausentes afectan a la investigación. Por ejemplo, los valores ausentes en `track` y `artist` no son cruciales. Simplemente puedes reemplazarlos con valores predeterminados como el string `'unknown'` (desconocido).\n",
    "\n",
    "Pero los valores ausentes en `'genre'` pueden afectar la comparación entre las preferencias musicales de Springfield y Shelbyville. En la vida real, sería útil saber las razones por las cuales hay datos ausentes e intentar recuperarlos. Pero no tenemos esa oportunidad en este proyecto. Así que tendrás que:\n",
    "* rellenar estos valores ausentes con un valor predeterminado;\n",
    "* evaluar cuánto podrían afectar los valores ausentes a tus cómputos;"
   ]
  },
  {
   "cell_type": "markdown",
   "metadata": {
    "id": "fSv2laPA_Zct"
   },
   "source": [
    "Reemplazar los valores ausentes en las columnas `'track'`, `'artist'` y `'genre'` con el string `'unknown'`. Como mostramos anteriormente en las lecciones, la mejor forma de hacerlo es crear una lista que almacene los nombres de las columnas donde se necesita el reemplazo. Luego, utiliza esta lista e itera sobre las columnas donde se necesita el reemplazo haciendo el propio reemplazo."
   ]
  },
  {
   "cell_type": "code",
   "execution_count": 41,
   "metadata": {
    "id": "KplB5qWs_Zct"
   },
   "outputs": [
    {
     "name": "stderr",
     "output_type": "stream",
     "text": [
      "C:\\Users\\rodri\\AppData\\Local\\Temp\\ipykernel_12096\\3295058978.py:5: FutureWarning: A value is trying to be set on a copy of a DataFrame or Series through chained assignment using an inplace method.\n",
      "The behavior will change in pandas 3.0. This inplace method will never work because the intermediate object on which we are setting values always behaves as a copy.\n",
      "\n",
      "For example, when doing 'df[col].method(value, inplace=True)', try using 'df.method({col: value}, inplace=True)' or df[col] = df[col].method(value) instead, to perform the operation inplace on the original object.\n",
      "\n",
      "\n",
      "  df[col].fillna('unknown' , inplace = True)\n"
     ]
    }
   ],
   "source": [
    "# Bucle en los encabezados reemplazando los valores ausentes con 'unknown'\n",
    "columnas = ['track', 'artist' ,'genre']\n",
    "\n",
    "for col in columnas:\n",
    "    df[col].fillna('unknown' , inplace = True)\n"
   ]
  },
  {
   "cell_type": "markdown",
   "metadata": {
    "id": "Ilsm-MZo_Zct"
   },
   "source": [
    "Ahora comprueba el resultado para asegurarte de que después del reemplazo no haya valores ausentes en el conjunto de datos. Para hacer esto, cuenta los valores ausentes nuevamente."
   ]
  },
  {
   "cell_type": "code",
   "execution_count": 42,
   "metadata": {
    "id": "Tq4nYRX4_Zct",
    "scrolled": true
   },
   "outputs": [
    {
     "name": "stdout",
     "output_type": "stream",
     "text": [
      "user_id    0\n",
      "track      0\n",
      "artist     0\n",
      "genre      0\n",
      "city       0\n",
      "time       0\n",
      "day        0\n",
      "dtype: int64\n"
     ]
    }
   ],
   "source": [
    "# Contar valores ausentes\n",
    "print(df.isna().sum())"
   ]
  },
  {
   "cell_type": "markdown",
   "metadata": {
    "id": "74ZIBmq9VrsK"
   },
   "source": [
    "[Volver a Contenidos](#back)"
   ]
  },
  {
   "cell_type": "markdown",
   "metadata": {
    "id": "BWKRtBJ3_Zct"
   },
   "source": [
    "### Duplicados <a id='duplicates'></a>\n",
    "Encuentra el número de duplicados explícitos en la tabla. Una vez más, debes aplicar dos métodos en una secuencia para obtener la cantidad de duplicados explícitos."
   ]
  },
  {
   "cell_type": "code",
   "execution_count": 43,
   "metadata": {
    "id": "36eES_S0_Zct"
   },
   "outputs": [
    {
     "name": "stdout",
     "output_type": "stream",
     "text": [
      "3826\n"
     ]
    }
   ],
   "source": [
    "# Contar duplicados explícitos\n",
    "print(df.duplicated().sum())"
   ]
  },
  {
   "cell_type": "markdown",
   "metadata": {
    "id": "Ot25h6XR_Zct"
   },
   "source": [
    "Ahora, elimina todos los duplicados. Para ello, llama al método que hace exactamente esto."
   ]
  },
  {
   "cell_type": "code",
   "execution_count": 44,
   "metadata": {
    "id": "exFHq6tt_Zct"
   },
   "outputs": [
    {
     "data": {
      "text/html": [
       "<div>\n",
       "<style scoped>\n",
       "    .dataframe tbody tr th:only-of-type {\n",
       "        vertical-align: middle;\n",
       "    }\n",
       "\n",
       "    .dataframe tbody tr th {\n",
       "        vertical-align: top;\n",
       "    }\n",
       "\n",
       "    .dataframe thead th {\n",
       "        text-align: right;\n",
       "    }\n",
       "</style>\n",
       "<table border=\"1\" class=\"dataframe\">\n",
       "  <thead>\n",
       "    <tr style=\"text-align: right;\">\n",
       "      <th></th>\n",
       "      <th>user_id</th>\n",
       "      <th>track</th>\n",
       "      <th>artist</th>\n",
       "      <th>genre</th>\n",
       "      <th>city</th>\n",
       "      <th>time</th>\n",
       "      <th>day</th>\n",
       "    </tr>\n",
       "  </thead>\n",
       "  <tbody>\n",
       "    <tr>\n",
       "      <th>0</th>\n",
       "      <td>FFB692EC</td>\n",
       "      <td>Kamigata To Boots</td>\n",
       "      <td>The Mass Missile</td>\n",
       "      <td>rock</td>\n",
       "      <td>Shelbyville</td>\n",
       "      <td>20:28:33</td>\n",
       "      <td>Wednesday</td>\n",
       "    </tr>\n",
       "    <tr>\n",
       "      <th>1</th>\n",
       "      <td>55204538</td>\n",
       "      <td>Delayed Because of Accident</td>\n",
       "      <td>Andreas Rönnberg</td>\n",
       "      <td>rock</td>\n",
       "      <td>Springfield</td>\n",
       "      <td>14:07:09</td>\n",
       "      <td>Friday</td>\n",
       "    </tr>\n",
       "    <tr>\n",
       "      <th>2</th>\n",
       "      <td>20EC38</td>\n",
       "      <td>Funiculì funiculà</td>\n",
       "      <td>Mario Lanza</td>\n",
       "      <td>pop</td>\n",
       "      <td>Shelbyville</td>\n",
       "      <td>20:58:07</td>\n",
       "      <td>Wednesday</td>\n",
       "    </tr>\n",
       "    <tr>\n",
       "      <th>3</th>\n",
       "      <td>A3DD03C9</td>\n",
       "      <td>Dragons in the Sunset</td>\n",
       "      <td>Fire + Ice</td>\n",
       "      <td>folk</td>\n",
       "      <td>Shelbyville</td>\n",
       "      <td>08:37:09</td>\n",
       "      <td>Monday</td>\n",
       "    </tr>\n",
       "    <tr>\n",
       "      <th>4</th>\n",
       "      <td>E2DC1FAE</td>\n",
       "      <td>Soul People</td>\n",
       "      <td>Space Echo</td>\n",
       "      <td>dance</td>\n",
       "      <td>Springfield</td>\n",
       "      <td>08:34:34</td>\n",
       "      <td>Monday</td>\n",
       "    </tr>\n",
       "  </tbody>\n",
       "</table>\n",
       "</div>"
      ],
      "text/plain": [
       "    user_id                        track            artist  genre  \\\n",
       "0  FFB692EC            Kamigata To Boots  The Mass Missile   rock   \n",
       "1  55204538  Delayed Because of Accident  Andreas Rönnberg   rock   \n",
       "2    20EC38            Funiculì funiculà       Mario Lanza    pop   \n",
       "3  A3DD03C9        Dragons in the Sunset        Fire + Ice   folk   \n",
       "4  E2DC1FAE                  Soul People        Space Echo  dance   \n",
       "\n",
       "          city      time        day  \n",
       "0  Shelbyville  20:28:33  Wednesday  \n",
       "1  Springfield  14:07:09     Friday  \n",
       "2  Shelbyville  20:58:07  Wednesday  \n",
       "3  Shelbyville  08:37:09     Monday  \n",
       "4  Springfield  08:34:34     Monday  "
      ]
     },
     "execution_count": 44,
     "metadata": {},
     "output_type": "execute_result"
    }
   ],
   "source": [
    "# Eliminar duplicados explícitos\n",
    "df = df.drop_duplicates().reset_index(drop = True)\n",
    "df.head()"
   ]
  },
  {
   "cell_type": "markdown",
   "metadata": {
    "id": "Im2YwBEG_Zct"
   },
   "source": [
    "Comprobemos ahora si eliminamos con éxito todos los duplicados. Cuenta los duplicados explícitos una vez más para asegurarte de haberlos eliminado todos:"
   ]
  },
  {
   "cell_type": "code",
   "execution_count": 45,
   "metadata": {
    "id": "-8PuNWQ0_Zct",
    "scrolled": true
   },
   "outputs": [
    {
     "name": "stdout",
     "output_type": "stream",
     "text": [
      "0\n"
     ]
    }
   ],
   "source": [
    "# Comprobar de nuevo si hay duplicados\n",
    "print(df.duplicated().sum())"
   ]
  },
  {
   "cell_type": "markdown",
   "metadata": {
    "id": "QlFBsxAr_Zct"
   },
   "source": [
    "Ahora queremos deshacernos de los duplicados implícitos en la columna `genre`. Por ejemplo, el nombre de un género se puede escribir de varias formas. Dichos errores también pueden afectar al resultado."
   ]
  },
  {
   "cell_type": "markdown",
   "metadata": {
    "id": "eSjWwsOh_Zct"
   },
   "source": [
    "Para hacerlo, primero mostremos una lista de nombres de género únicos, ordenados en orden alfabético. Para ello:\n",
    "* Extrae la columna `genre` del DataFrame.\n",
    "* Llama al método que devolverá todos los valores únicos en la columna extraída.\n"
   ]
  },
  {
   "cell_type": "code",
   "execution_count": 46,
   "metadata": {
    "id": "JIUcqzZN_Zct"
   },
   "outputs": [
    {
     "name": "stdout",
     "output_type": "stream",
     "text": [
      "['acid' 'acoustic' 'action' 'adult' 'africa' 'afrikaans' 'alternative'\n",
      " 'ambient' 'americana' 'animated' 'anime' 'arabesk' 'arabic' 'arena'\n",
      " 'argentinetango' 'art' 'audiobook' 'avantgarde' 'axé' 'baile' 'balkan'\n",
      " 'beats' 'bigroom' 'black' 'bluegrass' 'blues' 'bollywood' 'bossa'\n",
      " 'brazilian' 'breakbeat' 'breaks' 'broadway' 'cantautori' 'cantopop'\n",
      " 'canzone' 'caribbean' 'caucasian' 'celtic' 'chamber' 'children' 'chill'\n",
      " 'chinese' 'choral' 'christian' 'christmas' 'classical' 'classicmetal'\n",
      " 'club' 'colombian' 'comedy' 'conjazz' 'contemporary' 'country' 'cuban'\n",
      " 'dance' 'dancehall' 'dancepop' 'dark' 'death' 'deep' 'deutschrock'\n",
      " 'deutschspr' 'dirty' 'disco' 'dnb' 'documentary' 'downbeat' 'downtempo'\n",
      " 'drum' 'dub' 'dubstep' 'eastern' 'easy' 'electronic' 'electropop' 'emo'\n",
      " 'entehno' 'epicmetal' 'estrada' 'ethnic' 'eurofolk' 'european'\n",
      " 'experimental' 'extrememetal' 'fado' 'film' 'fitness' 'flamenco' 'folk'\n",
      " 'folklore' 'folkmetal' 'folkrock' 'folktronica' 'forró' 'frankreich'\n",
      " 'französisch' 'french' 'funk' 'future' 'gangsta' 'garage' 'german'\n",
      " 'ghazal' 'gitarre' 'glitch' 'gospel' 'gothic' 'grime' 'grunge' 'gypsy'\n",
      " 'handsup' \"hard'n'heavy\" 'hardcore' 'hardstyle' 'hardtechno' 'hip'\n",
      " 'hip-hop' 'hiphop' 'historisch' 'holiday' 'hop' 'horror' 'house' 'idm'\n",
      " 'independent' 'indian' 'indie' 'indipop' 'industrial' 'inspirational'\n",
      " 'instrumental' 'international' 'irish' 'jam' 'japanese' 'jazz' 'jewish'\n",
      " 'jpop' 'jungle' 'k-pop' 'karadeniz' 'karaoke' 'kayokyoku' 'korean'\n",
      " 'laiko' 'latin' 'latino' 'leftfield' 'local' 'lounge' 'loungeelectronic'\n",
      " 'lovers' 'malaysian' 'mandopop' 'marschmusik' 'meditative'\n",
      " 'mediterranean' 'melodic' 'metal' 'metalcore' 'mexican' 'middle'\n",
      " 'minimal' 'miscellaneous' 'modern' 'mood' 'mpb' 'muslim' 'native'\n",
      " 'neoklassik' 'neue' 'new' 'newage' 'newwave' 'nu' 'nujazz' 'numetal'\n",
      " 'oceania' 'old' 'opera' 'orchestral' 'other' 'piano' 'pop'\n",
      " 'popelectronic' 'popeurodance' 'post' 'posthardcore' 'postrock' 'power'\n",
      " 'progmetal' 'progressive' 'psychedelic' 'punjabi' 'punk' 'quebecois'\n",
      " 'ragga' 'ram' 'rancheras' 'rap' 'rave' 'reggae' 'reggaeton' 'regional'\n",
      " 'relax' 'religious' 'retro' 'rhythm' 'rnb' 'rnr' 'rock' 'rockabilly'\n",
      " 'romance' 'roots' 'ruspop' 'rusrap' 'rusrock' 'salsa' 'samba' 'schlager'\n",
      " 'self' 'sertanejo' 'shoegazing' 'showtunes' 'singer' 'ska' 'slow'\n",
      " 'smooth' 'soul' 'soulful' 'sound' 'soundtrack' 'southern' 'specialty'\n",
      " 'speech' 'spiritual' 'sport' 'stonerrock' 'surf' 'swing' 'synthpop'\n",
      " 'sängerportrait' 'tango' 'tanzorchester' 'taraftar' 'tech' 'techno'\n",
      " 'thrash' 'top' 'traditional' 'tradjazz' 'trance' 'tribal' 'trip'\n",
      " 'triphop' 'tropical' 'türk' 'türkçe' 'unknown' 'urban' 'uzbek' 'variété'\n",
      " 'vi' 'videogame' 'vocal' 'western' 'world' 'worldbeat' 'ïîï']\n"
     ]
    }
   ],
   "source": [
    "# Inspeccionar los nombres de géneros únicos\n",
    "genre = df['genre'].unique()\n",
    "genre.sort()\n",
    "print(genre)"
   ]
  },
  {
   "cell_type": "markdown",
   "metadata": {
    "id": "qej-Qmuo_Zct"
   },
   "source": [
    "Busca en la lista para encontrar duplicados implícitos del género `hiphop`. Estos pueden ser nombres escritos incorrectamente o nombres alternativos para el mismo género.\n",
    "\n",
    "Verás los siguientes duplicados implícitos:\n",
    "* `hip`\n",
    "* `hop`\n",
    "* `hip-hop`\n",
    "\n",
    "Para deshacerte de ellos, crea una función llamada `replace_wrong_genres()` con dos parámetros:\n",
    "* `wrong_genres=`: esta es una lista que contiene todos los valores que necesitas reemplazar.\n",
    "* `correct_genre=`: este es un string que vas a utilizar como reemplazo.\n",
    "\n",
    "Como resultado, la función debería corregir los nombres en la columna `'genre'` de la tabla `df`, es decir, remplazar cada valor de la lista `wrong_genres` por el valor en `correct_genre`.\n",
    "\n",
    "Dentro del cuerpo de la función, utiliza un bucle `'for'` para iterar sobre la lista de géneros incorrectos, extrae la columna `'genre'` y aplica el método `replace` para hacer correcciones."
   ]
  },
  {
   "cell_type": "code",
   "execution_count": 47,
   "metadata": {
    "id": "ErNDkmns_Zct"
   },
   "outputs": [],
   "source": [
    "# Función para reemplazar duplicados implícitos\n",
    "def replace_wrong_genres(df, wrong_genres, correct_genre):\n",
    "    for wrong_genre in wrong_genres:\n",
    "        df['genre']= df['genre'].replace(wrong_genre, correct_genre)\n",
    "    return df"
   ]
  },
  {
   "cell_type": "markdown",
   "metadata": {
    "id": "aDoBJxbA_Zct"
   },
   "source": [
    "Ahora, llama a `replace_wrong_genres()` y pásale tales argumentos para que retire los duplicados implícitos (`hip`, `hop` y `hip-hop`) y los reemplace por `hiphop`:"
   ]
  },
  {
   "cell_type": "code",
   "execution_count": 48,
   "metadata": {
    "id": "YN5i2hpmSo09"
   },
   "outputs": [],
   "source": [
    "# Eliminar duplicados implícitos\n",
    "wrong_genres = [\"hip\",\"hop\",\"hip-hop\"]\n",
    "correct_genre = \"hiphop\"\n",
    "\n",
    "df = replace_wrong_genres(df, wrong_genres, correct_genre)"
   ]
  },
  {
   "cell_type": "markdown",
   "metadata": {
    "id": "zQKF16_RG15m"
   },
   "source": [
    "Asegúrate de que los nombres duplicados han sido eliminados. Muestra la lista de valores únicos de la columna `'genre'` una vez más:"
   ]
  },
  {
   "cell_type": "code",
   "execution_count": 49,
   "metadata": {
    "id": "wvixALnFG15m"
   },
   "outputs": [
    {
     "name": "stdout",
     "output_type": "stream",
     "text": [
      "['acid' 'acoustic' 'action' 'adult' 'africa' 'afrikaans' 'alternative'\n",
      " 'ambient' 'americana' 'animated' 'anime' 'arabesk' 'arabic' 'arena'\n",
      " 'argentinetango' 'art' 'audiobook' 'avantgarde' 'axé' 'baile' 'balkan'\n",
      " 'beats' 'bigroom' 'black' 'bluegrass' 'blues' 'bollywood' 'bossa'\n",
      " 'brazilian' 'breakbeat' 'breaks' 'broadway' 'cantautori' 'cantopop'\n",
      " 'canzone' 'caribbean' 'caucasian' 'celtic' 'chamber' 'children' 'chill'\n",
      " 'chinese' 'choral' 'christian' 'christmas' 'classical' 'classicmetal'\n",
      " 'club' 'colombian' 'comedy' 'conjazz' 'contemporary' 'country' 'cuban'\n",
      " 'dance' 'dancehall' 'dancepop' 'dark' 'death' 'deep' 'deutschrock'\n",
      " 'deutschspr' 'dirty' 'disco' 'dnb' 'documentary' 'downbeat' 'downtempo'\n",
      " 'drum' 'dub' 'dubstep' 'eastern' 'easy' 'electronic' 'electropop' 'emo'\n",
      " 'entehno' 'epicmetal' 'estrada' 'ethnic' 'eurofolk' 'european'\n",
      " 'experimental' 'extrememetal' 'fado' 'film' 'fitness' 'flamenco' 'folk'\n",
      " 'folklore' 'folkmetal' 'folkrock' 'folktronica' 'forró' 'frankreich'\n",
      " 'französisch' 'french' 'funk' 'future' 'gangsta' 'garage' 'german'\n",
      " 'ghazal' 'gitarre' 'glitch' 'gospel' 'gothic' 'grime' 'grunge' 'gypsy'\n",
      " 'handsup' \"hard'n'heavy\" 'hardcore' 'hardstyle' 'hardtechno' 'hiphop'\n",
      " 'historisch' 'holiday' 'horror' 'house' 'idm' 'independent' 'indian'\n",
      " 'indie' 'indipop' 'industrial' 'inspirational' 'instrumental'\n",
      " 'international' 'irish' 'jam' 'japanese' 'jazz' 'jewish' 'jpop' 'jungle'\n",
      " 'k-pop' 'karadeniz' 'karaoke' 'kayokyoku' 'korean' 'laiko' 'latin'\n",
      " 'latino' 'leftfield' 'local' 'lounge' 'loungeelectronic' 'lovers'\n",
      " 'malaysian' 'mandopop' 'marschmusik' 'meditative' 'mediterranean'\n",
      " 'melodic' 'metal' 'metalcore' 'mexican' 'middle' 'minimal'\n",
      " 'miscellaneous' 'modern' 'mood' 'mpb' 'muslim' 'native' 'neoklassik'\n",
      " 'neue' 'new' 'newage' 'newwave' 'nu' 'nujazz' 'numetal' 'oceania' 'old'\n",
      " 'opera' 'orchestral' 'other' 'piano' 'pop' 'popelectronic' 'popeurodance'\n",
      " 'post' 'posthardcore' 'postrock' 'power' 'progmetal' 'progressive'\n",
      " 'psychedelic' 'punjabi' 'punk' 'quebecois' 'ragga' 'ram' 'rancheras'\n",
      " 'rap' 'rave' 'reggae' 'reggaeton' 'regional' 'relax' 'religious' 'retro'\n",
      " 'rhythm' 'rnb' 'rnr' 'rock' 'rockabilly' 'romance' 'roots' 'ruspop'\n",
      " 'rusrap' 'rusrock' 'salsa' 'samba' 'schlager' 'self' 'sertanejo'\n",
      " 'shoegazing' 'showtunes' 'singer' 'ska' 'slow' 'smooth' 'soul' 'soulful'\n",
      " 'sound' 'soundtrack' 'southern' 'specialty' 'speech' 'spiritual' 'sport'\n",
      " 'stonerrock' 'surf' 'swing' 'synthpop' 'sängerportrait' 'tango'\n",
      " 'tanzorchester' 'taraftar' 'tech' 'techno' 'thrash' 'top' 'traditional'\n",
      " 'tradjazz' 'trance' 'tribal' 'trip' 'triphop' 'tropical' 'türk' 'türkçe'\n",
      " 'unknown' 'urban' 'uzbek' 'variété' 'vi' 'videogame' 'vocal' 'western'\n",
      " 'world' 'worldbeat' 'ïîï']\n"
     ]
    }
   ],
   "source": [
    "# Comprobación de duplicados implícitos\n",
    "genre = df['genre'].unique()\n",
    "genre.sort()\n",
    "print(genre)"
   ]
  },
  {
   "cell_type": "markdown",
   "metadata": {
    "id": "ALgNbvF3VtPA"
   },
   "source": [
    "[Volver a Contenidos](#back)"
   ]
  },
  {
   "cell_type": "markdown",
   "metadata": {
    "id": "jz6a9-7HQUDd"
   },
   "source": [
    "### Tus observaciones <a id='data_preprocessing_conclusions'></a>\n",
    "\n",
    "`Describe brevemente lo que has notado al analizar duplicados, cómo abordaste sus eliminaciones y qué resultados obtuviste.`\n",
    "     RPTA: Al analizar duplicados en la columna 'genre', encontre variaciones como 'hip', 'hop', 'hip-hop' y 'HipHop' asi que segun lo aprendido primero encontramos los duplicados explícitos para luego eliminarlos. Para duplicados implícitos, creé una función que reemplazaba variaciones por 'HipHop'. El resultado fue un DataFrame limpio sin duplicados en 'genre', mejorando la coherencia y utilidad de los datos."
   ]
  },
  {
   "cell_type": "markdown",
   "metadata": {
    "id": "eK1es74rVujj"
   },
   "source": [
    "[Volver a Contenidos](#back)"
   ]
  },
  {
   "cell_type": "markdown",
   "metadata": {
    "id": "WttZHXH0SqKk"
   },
   "source": [
    "## Etapa 3. Prueba de hipótesis <a id='hypothesis'></a>"
   ]
  },
  {
   "cell_type": "markdown",
   "metadata": {
    "id": "Im936VVi_Zcu"
   },
   "source": [
    "### Hipótesis: comparar el comportamiento del usuario o la usuaria en las dos ciudades <a id='activity'></a>"
   ]
  },
  {
   "cell_type": "markdown",
   "metadata": {
    "id": "nwt_MuaL_Zcu"
   },
   "source": [
    "La hipótesis afirma que existen diferencias en la forma en que los usuarios y las usuarias de Springfield y Shelbyville consumen música. Para comprobar esto, usa los datos de tres días de la semana: lunes, miércoles y viernes.\n",
    "\n",
    "* Agrupa a los usuarios y las usuarias por ciudad.\n",
    "* Compara el número de canciones que cada grupo reprodujo el lunes, el miércoles y el viernes.\n"
   ]
  },
  {
   "cell_type": "markdown",
   "metadata": {
    "id": "8Dw_YMmT_Zcu"
   },
   "source": [
    "Realiza cada cálculo por separado.\n",
    "\n",
    "El primer paso es evaluar la actividad del usuario en cada ciudad. Recuerda las etapas dividir-aplicar-combinar de las que hablamos anteriormente en la lección. Tu objetivo ahora es agrupar los datos por ciudad, aplicar el método apropiado para contar durante la etapa de aplicación y luego encontrar la cantidad de canciones reproducidas en cada grupo especificando la columna para obtener el recuento.\n",
    "\n",
    "A continuación se muestra un ejemplo de cómo debería verse el resultado final:\n",
    "`df.groupby(by='....')['column'].method()`Realiza cada cálculo por separado.\n",
    "\n",
    "Para evaluar la actividad de los usuarios y las usuarias en cada ciudad, agrupa los datos por ciudad y encuentra la cantidad de canciones reproducidas en cada grupo.\n",
    "\n"
   ]
  },
  {
   "cell_type": "code",
   "execution_count": 50,
   "metadata": {
    "id": "0_Qs96oh_Zcu"
   },
   "outputs": [
    {
     "name": "stdout",
     "output_type": "stream",
     "text": [
      "city\n",
      "Shelbyville    18512\n",
      "Springfield    42741\n",
      "Name: user_id, dtype: int64\n"
     ]
    }
   ],
   "source": [
    "Total_canciones_escuchadas = df.groupby(by = 'city')['user_id'].count()\n",
    "print(Total_canciones_escuchadas)"
   ]
  },
  {
   "cell_type": "markdown",
   "metadata": {
    "id": "t_Qx-3NewAnK"
   },
   "source": [
    "`Comenta tus observaciones aquí`\n",
    "Podemos observar que significaticamente hay mas personas que reproducen musica en la ciudad de springfield"
   ]
  },
  {
   "cell_type": "markdown",
   "metadata": {
    "id": "dzli3w8o_Zcu"
   },
   "source": [
    "Ahora agrupemos los datos por día de la semana y encontremos el número de canciones reproducidas el lunes, miércoles y viernes. Utiliza el mismo método que antes, pero ahora necesitamos una agrupación diferente.\n"
   ]
  },
  {
   "cell_type": "code",
   "execution_count": 51,
   "metadata": {
    "id": "uZMKjiJz_Zcu"
   },
   "outputs": [
    {
     "name": "stdout",
     "output_type": "stream",
     "text": [
      "day\n",
      "Friday       21840\n",
      "Monday       21354\n",
      "Wednesday    18059\n",
      "Name: city, dtype: int64\n"
     ]
    }
   ],
   "source": [
    "# Calcular las canciones reproducidas en cada uno de los tres días\n",
    "Total_canciones_escuchadas_dia = df.groupby(by='day')['city'].count()\n",
    "print(Total_canciones_escuchadas_dia)"
   ]
  },
  {
   "cell_type": "markdown",
   "metadata": {
    "id": "cC2tNrlL_Zcu"
   },
   "source": [
    "`Comenta tus observaciones aquí`\n",
    "Podemos ver que los dias viernes y lunes son los dias que hay mas gente reproduciendo canciones y los dias miecoles esto disminuye"
   ]
  },
  {
   "cell_type": "markdown",
   "metadata": {
    "id": "POzs8bGa_Zcu"
   },
   "source": [
    "Ya sabes cómo contar entradas agrupándolas por ciudad o día. Ahora necesitas escribir una función que pueda contar entradas según ambos criterios simultáneamente.\n",
    "\n",
    "Crea la función `number_tracks()` para calcular el número de canciones reproducidas en un determinado día **y** ciudad. La función debe aceptar dos parámetros:\n",
    "\n",
    "- `day`: un día de la semana para filtrar. Por ejemplo, `'Monday'` (lunes).\n",
    "- `city`: una ciudad para filtrar. Por ejemplo, `'Springfield'`.\n",
    "\n",
    "Dentro de la función, aplicarás un filtrado consecutivo con indexación lógica.\n",
    "\n",
    "Primero filtra los datos por día y luego filtra la tabla resultante por ciudad.\n",
    "\n",
    "Después de filtrar los datos por dos criterios, cuenta el número de valores de la columna 'user_id' en la tabla resultante. Este recuento representa el número de entradas que estás buscando. Guarda el resultado en una nueva variable y devuélvelo desde la función."
   ]
  },
  {
   "cell_type": "code",
   "execution_count": 52,
   "metadata": {
    "id": "Nz3GdQB1_Zcu"
   },
   "outputs": [],
   "source": [
    "def number_tracks(day, city, df):\n",
    "    day = df[(df['day'] == day) &  (df['city'] == city)]\n",
    "    number_tracks = day['user_id'].count()\n",
    "    return number_tracks\n"
   ]
  },
  {
   "cell_type": "markdown",
   "metadata": {
    "id": "ytf7xFrFJQ2r"
   },
   "source": [
    "Llama a `number_tracks()` seis veces, cambiando los valores de los parámetros para que recuperes los datos de ambas ciudades para cada uno de los tres días."
   ]
  },
  {
   "cell_type": "code",
   "execution_count": 53,
   "metadata": {
    "id": "rJcRATNQ_Zcu"
   },
   "outputs": [
    {
     "name": "stdout",
     "output_type": "stream",
     "text": [
      "El número de canciones reproducidas en Springfield el Monday es: 15740\n"
     ]
    }
   ],
   "source": [
    "# El número de canciones reproducidas en Springfield el lunes\n",
    "day = 'Monday'\n",
    "city = 'Springfield'\n",
    "num_tracks = number_tracks(day, city, df)\n",
    "print(f\"El número de canciones reproducidas en {city} el {day} es: {num_tracks}\")"
   ]
  },
  {
   "cell_type": "code",
   "execution_count": 54,
   "metadata": {
    "id": "hq_ncZ5T_Zcu"
   },
   "outputs": [
    {
     "name": "stdout",
     "output_type": "stream",
     "text": [
      "El número de canciones reproducidas en Shelbyville el Monday es: 5614\n"
     ]
    }
   ],
   "source": [
    "# El número de canciones reproducidas en Shelbyville el lunes\n",
    "day = 'Monday'\n",
    "city = 'Shelbyville'\n",
    "num_tracks = number_tracks(day, city, df)\n",
    "print(f\"El número de canciones reproducidas en {city} el {day} es: {num_tracks}\")"
   ]
  },
  {
   "cell_type": "code",
   "execution_count": 55,
   "metadata": {
    "id": "_NTy2VPU_Zcu"
   },
   "outputs": [
    {
     "name": "stdout",
     "output_type": "stream",
     "text": [
      "El número de canciones reproducidas en Springfield el Wednesday es: 11056\n"
     ]
    }
   ],
   "source": [
    "# El número de canciones reproducidas en Springfield el miércoles\n",
    "day = 'Wednesday'\n",
    "city = 'Springfield'\n",
    "num_tracks = number_tracks(day, city, df)\n",
    "print(f\"El número de canciones reproducidas en {city} el {day} es: {num_tracks}\")"
   ]
  },
  {
   "cell_type": "code",
   "execution_count": 56,
   "metadata": {
    "id": "j2y3TAwo_Zcu"
   },
   "outputs": [
    {
     "name": "stdout",
     "output_type": "stream",
     "text": [
      "El número de canciones reproducidas en Shelbyville el Wednesday es: 7003\n"
     ]
    }
   ],
   "source": [
    "# El número de canciones reproducidas en Shelbyville el miércoles\n",
    "day = 'Wednesday'\n",
    "city = 'Shelbyville'\n",
    "num_tracks = number_tracks(day, city, df)\n",
    "print(f\"El número de canciones reproducidas en {city} el {day} es: {num_tracks}\")"
   ]
  },
  {
   "cell_type": "code",
   "execution_count": 57,
   "metadata": {
    "id": "vYDw5u_K_Zcu"
   },
   "outputs": [
    {
     "name": "stdout",
     "output_type": "stream",
     "text": [
      "El número de canciones reproducidas en Springfield el Friday es: 15945\n"
     ]
    }
   ],
   "source": [
    "# El número de canciones reproducidas en Springfield el viernes\n",
    "day = 'Friday'\n",
    "city = 'Springfield'\n",
    "num_tracks = number_tracks(day, city, df)\n",
    "print(f\"El número de canciones reproducidas en {city} el {day} es: {num_tracks}\")"
   ]
  },
  {
   "cell_type": "code",
   "execution_count": 58,
   "metadata": {
    "id": "8_yzFtW3_Zcu",
    "scrolled": true
   },
   "outputs": [
    {
     "name": "stdout",
     "output_type": "stream",
     "text": [
      "El número de canciones reproducidas en Shelbyville el Friday es: 5895\n"
     ]
    }
   ],
   "source": [
    "# El número de canciones reproducidas en Shelbyville el viernes\n",
    "day = 'Friday'\n",
    "city = 'Shelbyville'\n",
    "num_tracks = number_tracks(day, city, df)\n",
    "print(f\"El número de canciones reproducidas en {city} el {day} es: {num_tracks}\")"
   ]
  },
  {
   "cell_type": "markdown",
   "metadata": {
    "id": "-EgPIHYu_Zcu"
   },
   "source": [
    "**Conclusiones**\n",
    "\n",
    "`Comenta si la hipótesis es correcta o se debe rechazar. Explica tu razonamiento.`\n",
    "podemos observar que ocurre un caso opuesto con ambas ciudades, tenemos claro que en springfield hay un mayor numero de personas que reproducen musica los dias de semana pero analizado mas a fondo podemos observar que el dia miercoles hay una disminucion de personas las cuales reproducen musica, caso contrario en Shelbyville que el dia miercoles incrementa el numero de personas que reproducen musica y con esto podemos concluir que la hipótesis de que la actividad de los usuarios y usuarias difiere según el día de la semana y dependiendo de la ciudad es confirmada. Las diferencias en el número de canciones reproducidas entre las ciudades y los días de la semana respaldan esta hipótesis."
   ]
  },
  {
   "cell_type": "markdown",
   "metadata": {
    "id": "p7nFQajCVw5B"
   },
   "source": [
    "[Volver a Contenidos](#back)"
   ]
  },
  {
   "cell_type": "markdown",
   "metadata": {
    "id": "ykKQ0N65_Zcv"
   },
   "source": [
    "# Conclusiones <a id='end'></a>"
   ]
  },
  {
   "cell_type": "markdown",
   "metadata": {
    "id": "tjUwbHb3_Zcv"
   },
   "source": [
    "`Resume aquí tus conclusiones sobre la hipótesis.`\n",
    "\n",
    "En conclusión, al analizar los datos de reproducción de música en Springfield y Shelbyville, podemos observar patrones distintos en la actividad de los usuarios y usuarias según el día de la semana:\n",
    "\n",
    "Springfield:\n",
    "\n",
    "En general, Springfield muestra un mayor número de personas reproduciendo música en los días de semana.\n",
    "Sin embargo, hay una disminución notable en la actividad musical los miércoles en comparación con los lunes y viernes.\n",
    "\n",
    "Shelbyville:\n",
    "\n",
    "Contrario a Springfield, Shelbyville experimenta un aumento en el número de personas reproduciendo música los miércoles en comparación con los lunes y viernes."
   ]
  },
  {
   "cell_type": "markdown",
   "metadata": {
    "id": "azLHu64yOIp7"
   },
   "source": [
    "### Nota\n",
    "En proyectos de investigación reales, la prueba de hipótesis estadística es más precisa y cuantitativa. También ten en cuenta que no siempre se pueden sacar conclusiones sobre una ciudad entera a partir de datos de una sola fuente.\n",
    "\n",
    "Aprenderás más sobre la prueba de hipótesis en el sprint de análisis estadístico de datos."
   ]
  },
  {
   "cell_type": "markdown",
   "metadata": {
    "id": "Ju4AHDSgV1FE"
   },
   "source": [
    "[Volver a Contenidos](#back)"
   ]
  }
 ],
 "metadata": {
  "ExecuteTimeLog": [
   {
    "duration": 306,
    "start_time": "2024-05-16T23:58:49.095Z"
   },
   {
    "duration": 20,
    "start_time": "2024-05-16T23:59:03.263Z"
   },
   {
    "duration": 435,
    "start_time": "2024-05-16T23:59:12.562Z"
   },
   {
    "duration": 189,
    "start_time": "2024-05-16T23:59:14.606Z"
   },
   {
    "duration": 10,
    "start_time": "2024-05-16T23:59:31.852Z"
   },
   {
    "duration": 33,
    "start_time": "2024-05-16T23:59:55.634Z"
   },
   {
    "duration": 4,
    "start_time": "2024-05-17T00:25:10.665Z"
   },
   {
    "duration": 8,
    "start_time": "2024-05-17T00:28:27.368Z"
   },
   {
    "duration": 6,
    "start_time": "2024-05-17T00:28:33.752Z"
   },
   {
    "duration": 6,
    "start_time": "2024-05-17T00:32:15.644Z"
   },
   {
    "duration": 13,
    "start_time": "2024-05-17T00:32:25.066Z"
   },
   {
    "duration": 59,
    "start_time": "2024-05-17T00:32:45.245Z"
   },
   {
    "duration": 23,
    "start_time": "2024-05-17T00:33:05.267Z"
   },
   {
    "duration": 8,
    "start_time": "2024-05-17T00:35:26.378Z"
   },
   {
    "duration": 760,
    "start_time": "2024-05-17T00:36:31.829Z"
   },
   {
    "duration": 78,
    "start_time": "2024-05-17T00:37:31.866Z"
   },
   {
    "duration": 64,
    "start_time": "2024-05-17T00:38:32.295Z"
   },
   {
    "duration": 6,
    "start_time": "2024-05-17T00:38:58.742Z"
   },
   {
    "duration": 6,
    "start_time": "2024-05-17T00:39:12.971Z"
   },
   {
    "duration": 6,
    "start_time": "2024-05-17T00:39:15.780Z"
   },
   {
    "duration": 6,
    "start_time": "2024-05-17T00:39:23.871Z"
   },
   {
    "duration": 6,
    "start_time": "2024-05-17T00:39:29.794Z"
   },
   {
    "duration": 5,
    "start_time": "2024-05-17T00:39:57.227Z"
   },
   {
    "duration": 5,
    "start_time": "2024-05-17T00:40:01.343Z"
   },
   {
    "duration": 445,
    "start_time": "2024-05-17T00:41:47.225Z"
   },
   {
    "duration": 151,
    "start_time": "2024-05-17T00:41:49.387Z"
   },
   {
    "duration": 11,
    "start_time": "2024-05-17T00:41:51.769Z"
   },
   {
    "duration": 44,
    "start_time": "2024-05-17T00:41:54.298Z"
   },
   {
    "duration": 4,
    "start_time": "2024-05-17T00:42:06.239Z"
   },
   {
    "duration": 6,
    "start_time": "2024-05-17T00:42:09.994Z"
   },
   {
    "duration": 6,
    "start_time": "2024-05-17T00:43:05.884Z"
   },
   {
    "duration": 8,
    "start_time": "2024-05-17T00:43:10.704Z"
   },
   {
    "duration": 6,
    "start_time": "2024-05-17T00:43:12.376Z"
   },
   {
    "duration": 6,
    "start_time": "2024-05-17T00:45:17.281Z"
   },
   {
    "duration": 6,
    "start_time": "2024-05-17T00:45:27.564Z"
   },
   {
    "duration": 4,
    "start_time": "2024-05-17T00:52:49.040Z"
   },
   {
    "duration": 423,
    "start_time": "2024-05-17T00:53:16.767Z"
   },
   {
    "duration": 154,
    "start_time": "2024-05-17T00:53:18.081Z"
   },
   {
    "duration": 11,
    "start_time": "2024-05-17T00:53:19.264Z"
   },
   {
    "duration": 33,
    "start_time": "2024-05-17T00:53:21.359Z"
   },
   {
    "duration": 5,
    "start_time": "2024-05-17T00:53:24.925Z"
   },
   {
    "duration": 5,
    "start_time": "2024-05-17T00:53:27.913Z"
   },
   {
    "duration": 6,
    "start_time": "2024-05-17T00:53:29.021Z"
   },
   {
    "duration": 5,
    "start_time": "2024-05-17T00:53:49.495Z"
   },
   {
    "duration": 4,
    "start_time": "2024-05-17T00:53:50.772Z"
   },
   {
    "duration": 25,
    "start_time": "2024-05-17T00:54:43.224Z"
   },
   {
    "duration": 26,
    "start_time": "2024-05-17T00:55:05.422Z"
   },
   {
    "duration": 25,
    "start_time": "2024-05-17T00:55:59.245Z"
   },
   {
    "duration": 21,
    "start_time": "2024-05-17T01:04:15.382Z"
   },
   {
    "duration": 24,
    "start_time": "2024-05-17T01:04:25.932Z"
   },
   {
    "duration": 137,
    "start_time": "2024-05-17T01:05:15.110Z"
   },
   {
    "duration": 80,
    "start_time": "2024-05-17T01:05:45.088Z"
   },
   {
    "duration": 77,
    "start_time": "2024-05-17T01:06:58.049Z"
   },
   {
    "duration": 91,
    "start_time": "2024-05-17T01:07:01.770Z"
   },
   {
    "duration": 71,
    "start_time": "2024-05-17T01:07:06.437Z"
   },
   {
    "duration": 91,
    "start_time": "2024-05-17T01:07:22.383Z"
   },
   {
    "duration": 77,
    "start_time": "2024-05-17T01:07:28.659Z"
   },
   {
    "duration": 240,
    "start_time": "2024-05-17T01:08:14.358Z"
   },
   {
    "duration": 74,
    "start_time": "2024-05-17T01:08:19.661Z"
   },
   {
    "duration": 81,
    "start_time": "2024-05-17T01:08:21.585Z"
   },
   {
    "duration": 68,
    "start_time": "2024-05-17T01:08:24.232Z"
   },
   {
    "duration": 674,
    "start_time": "2024-05-17T01:09:52.962Z"
   },
   {
    "duration": 10,
    "start_time": "2024-05-17T01:10:25.213Z"
   },
   {
    "duration": 4,
    "start_time": "2024-05-17T01:19:49.663Z"
   },
   {
    "duration": 34,
    "start_time": "2024-05-17T01:19:51.878Z"
   },
   {
    "duration": 10,
    "start_time": "2024-05-17T01:20:02.313Z"
   },
   {
    "duration": 10,
    "start_time": "2024-05-17T01:20:05.496Z"
   },
   {
    "duration": 5,
    "start_time": "2024-05-17T01:20:17.665Z"
   },
   {
    "duration": 430,
    "start_time": "2024-05-17T01:20:51.443Z"
   },
   {
    "duration": 152,
    "start_time": "2024-05-17T01:20:52.384Z"
   },
   {
    "duration": 12,
    "start_time": "2024-05-17T01:20:53.351Z"
   },
   {
    "duration": 33,
    "start_time": "2024-05-17T01:20:54.707Z"
   },
   {
    "duration": 5,
    "start_time": "2024-05-17T01:20:57.549Z"
   },
   {
    "duration": 6,
    "start_time": "2024-05-17T01:20:59.572Z"
   },
   {
    "duration": 4,
    "start_time": "2024-05-17T01:21:00.405Z"
   },
   {
    "duration": 10,
    "start_time": "2024-05-17T01:21:02.433Z"
   },
   {
    "duration": 5,
    "start_time": "2024-05-17T01:21:03.838Z"
   },
   {
    "duration": 39,
    "start_time": "2024-05-17T01:21:06.449Z"
   },
   {
    "duration": 25,
    "start_time": "2024-05-17T01:21:15.855Z"
   },
   {
    "duration": 15,
    "start_time": "2024-05-17T01:21:33.233Z"
   },
   {
    "duration": 37,
    "start_time": "2024-05-17T01:21:37.391Z"
   },
   {
    "duration": 80,
    "start_time": "2024-05-17T01:21:39.649Z"
   },
   {
    "duration": 79,
    "start_time": "2024-05-17T01:21:53.551Z"
   },
   {
    "duration": 82,
    "start_time": "2024-05-17T01:21:55.292Z"
   },
   {
    "duration": 70,
    "start_time": "2024-05-17T01:21:57.548Z"
   },
   {
    "duration": 11,
    "start_time": "2024-05-17T01:22:01.023Z"
   },
   {
    "duration": 4,
    "start_time": "2024-05-17T01:22:05.775Z"
   },
   {
    "duration": 6,
    "start_time": "2024-05-17T01:22:28.859Z"
   },
   {
    "duration": 12,
    "start_time": "2024-05-17T01:22:30.319Z"
   },
   {
    "duration": 5,
    "start_time": "2024-05-17T01:22:31.148Z"
   },
   {
    "duration": 10,
    "start_time": "2024-05-17T01:22:57.173Z"
   },
   {
    "duration": 1116,
    "start_time": "2024-05-17T01:41:59.675Z"
   },
   {
    "duration": 19,
    "start_time": "2024-05-17T01:42:26.408Z"
   },
   {
    "duration": 311,
    "start_time": "2024-05-17T01:43:10.253Z"
   },
   {
    "duration": 20,
    "start_time": "2024-05-17T01:43:46.115Z"
   },
   {
    "duration": 85,
    "start_time": "2024-05-17T01:44:49.266Z"
   },
   {
    "duration": 37,
    "start_time": "2024-05-17T01:45:04.193Z"
   },
   {
    "duration": 163,
    "start_time": "2024-05-17T01:48:34.105Z"
   },
   {
    "duration": 22,
    "start_time": "2024-05-17T01:48:45.754Z"
   },
   {
    "duration": 20,
    "start_time": "2024-05-17T01:49:04.211Z"
   },
   {
    "duration": 48,
    "start_time": "2024-05-17T01:51:45.288Z"
   },
   {
    "duration": 58,
    "start_time": "2024-05-17T01:52:07.209Z"
   },
   {
    "duration": 351,
    "start_time": "2024-05-17T01:53:58.682Z"
   },
   {
    "duration": 17,
    "start_time": "2024-05-17T01:54:05.932Z"
   },
   {
    "duration": 13,
    "start_time": "2024-05-17T01:54:24.499Z"
   },
   {
    "duration": 14,
    "start_time": "2024-05-17T01:54:36.215Z"
   },
   {
    "duration": 37,
    "start_time": "2024-05-17T01:54:52.049Z"
   },
   {
    "duration": 30,
    "start_time": "2024-05-17T01:56:55.286Z"
   },
   {
    "duration": 21,
    "start_time": "2024-05-17T01:57:05.714Z"
   },
   {
    "duration": 18,
    "start_time": "2024-05-17T01:57:12.770Z"
   },
   {
    "duration": 13,
    "start_time": "2024-05-17T01:57:22.500Z"
   },
   {
    "duration": 48,
    "start_time": "2024-05-17T01:57:53.280Z"
   },
   {
    "duration": 48,
    "start_time": "2024-05-17T01:58:19.788Z"
   },
   {
    "duration": 47,
    "start_time": "2024-05-17T01:59:12.226Z"
   },
   {
    "duration": 48,
    "start_time": "2024-05-17T01:59:57.022Z"
   },
   {
    "duration": 87,
    "start_time": "2024-05-17T02:02:06.167Z"
   },
   {
    "duration": 83,
    "start_time": "2024-05-17T02:02:26.627Z"
   },
   {
    "duration": 101,
    "start_time": "2024-05-17T02:02:39.850Z"
   },
   {
    "duration": 90,
    "start_time": "2024-05-17T02:04:17.924Z"
   },
   {
    "duration": 47,
    "start_time": "2024-05-17T02:04:26.317Z"
   },
   {
    "duration": 4,
    "start_time": "2024-05-17T02:08:26.399Z"
   },
   {
    "duration": 36,
    "start_time": "2024-05-17T02:08:44.193Z"
   },
   {
    "duration": 14,
    "start_time": "2024-05-17T02:09:01.960Z"
   },
   {
    "duration": 15,
    "start_time": "2024-05-17T02:09:18.918Z"
   },
   {
    "duration": 14,
    "start_time": "2024-05-17T02:09:28.844Z"
   },
   {
    "duration": 13,
    "start_time": "2024-05-17T02:09:35.461Z"
   },
   {
    "duration": 9,
    "start_time": "2024-05-17T02:11:32.235Z"
   },
   {
    "duration": 52,
    "start_time": "2024-05-17T02:13:19.689Z"
   },
   {
    "duration": 16,
    "start_time": "2024-05-17T02:15:17.829Z"
   },
   {
    "duration": 7,
    "start_time": "2024-05-17T02:16:20.549Z"
   },
   {
    "duration": 7,
    "start_time": "2024-05-17T02:16:29.432Z"
   },
   {
    "duration": 48,
    "start_time": "2024-05-17T02:17:08.531Z"
   },
   {
    "duration": 26,
    "start_time": "2024-05-17T02:17:18.651Z"
   },
   {
    "duration": 37,
    "start_time": "2024-05-17T02:18:19.548Z"
   },
   {
    "duration": 18,
    "start_time": "2024-05-17T02:18:48.118Z"
   },
   {
    "duration": 56,
    "start_time": "2024-05-17T02:18:56.195Z"
   },
   {
    "duration": 16,
    "start_time": "2024-05-17T02:24:17.928Z"
   },
   {
    "duration": 23,
    "start_time": "2024-05-17T02:27:17.654Z"
   },
   {
    "duration": 4,
    "start_time": "2024-05-17T02:27:29.551Z"
   },
   {
    "duration": 129,
    "start_time": "2024-05-17T02:27:30.858Z"
   },
   {
    "duration": 93,
    "start_time": "2024-05-17T02:27:45.107Z"
   },
   {
    "duration": 27,
    "start_time": "2024-05-17T02:28:02.149Z"
   },
   {
    "duration": 5,
    "start_time": "2024-05-17T02:28:07.141Z"
   },
   {
    "duration": 22,
    "start_time": "2024-05-17T02:28:09.898Z"
   },
   {
    "duration": 24,
    "start_time": "2024-05-17T02:28:10.974Z"
   },
   {
    "duration": 24,
    "start_time": "2024-05-17T02:28:11.694Z"
   },
   {
    "duration": 20,
    "start_time": "2024-05-17T02:28:12.433Z"
   },
   {
    "duration": 26,
    "start_time": "2024-05-17T02:28:13.270Z"
   },
   {
    "duration": 23,
    "start_time": "2024-05-17T02:28:13.949Z"
   },
   {
    "duration": 18,
    "start_time": "2024-05-17T02:28:38.662Z"
   },
   {
    "duration": 17,
    "start_time": "2024-05-17T02:29:35.242Z"
   },
   {
    "duration": 437,
    "start_time": "2024-05-17T02:36:35.687Z"
   },
   {
    "duration": 165,
    "start_time": "2024-05-17T02:36:36.809Z"
   },
   {
    "duration": 14,
    "start_time": "2024-05-17T02:36:37.929Z"
   },
   {
    "duration": 35,
    "start_time": "2024-05-17T02:36:42.521Z"
   },
   {
    "duration": 7,
    "start_time": "2024-05-17T02:36:50.713Z"
   },
   {
    "duration": 5,
    "start_time": "2024-05-17T02:36:56.993Z"
   },
   {
    "duration": 5,
    "start_time": "2024-05-17T02:36:58.338Z"
   },
   {
    "duration": 5,
    "start_time": "2024-05-17T02:37:02.414Z"
   },
   {
    "duration": 6,
    "start_time": "2024-05-17T02:37:07.176Z"
   },
   {
    "duration": 38,
    "start_time": "2024-05-17T02:37:09.933Z"
   },
   {
    "duration": 23,
    "start_time": "2024-05-17T02:37:13.056Z"
   },
   {
    "duration": 31,
    "start_time": "2024-05-17T02:37:15.534Z"
   },
   {
    "duration": 82,
    "start_time": "2024-05-17T02:37:24.005Z"
   },
   {
    "duration": 83,
    "start_time": "2024-05-17T02:37:25.183Z"
   },
   {
    "duration": 78,
    "start_time": "2024-05-17T02:37:27.396Z"
   },
   {
    "duration": 12,
    "start_time": "2024-05-17T02:37:29.353Z"
   },
   {
    "duration": 5,
    "start_time": "2024-05-17T02:37:34.048Z"
   },
   {
    "duration": 14,
    "start_time": "2024-05-17T02:37:39.110Z"
   },
   {
    "duration": 13,
    "start_time": "2024-05-17T02:37:42.308Z"
   },
   {
    "duration": 16,
    "start_time": "2024-05-17T02:37:50.043Z"
   },
   {
    "duration": 18,
    "start_time": "2024-05-17T02:37:55.758Z"
   },
   {
    "duration": 16,
    "start_time": "2024-05-17T02:38:45.051Z"
   },
   {
    "duration": 6,
    "start_time": "2024-05-17T02:38:46.648Z"
   },
   {
    "duration": 26,
    "start_time": "2024-05-17T02:38:47.708Z"
   },
   {
    "duration": 21,
    "start_time": "2024-05-17T02:38:48.466Z"
   },
   {
    "duration": 21,
    "start_time": "2024-05-17T02:38:49.153Z"
   },
   {
    "duration": 18,
    "start_time": "2024-05-17T02:38:49.712Z"
   },
   {
    "duration": 23,
    "start_time": "2024-05-17T02:38:50.210Z"
   },
   {
    "duration": 23,
    "start_time": "2024-05-17T02:38:50.615Z"
   },
   {
    "duration": 446,
    "start_time": "2024-05-17T20:24:55.680Z"
   },
   {
    "duration": 176,
    "start_time": "2024-05-17T20:24:56.130Z"
   },
   {
    "duration": 11,
    "start_time": "2024-05-17T20:24:56.308Z"
   },
   {
    "duration": 33,
    "start_time": "2024-05-17T20:24:56.323Z"
   },
   {
    "duration": 4,
    "start_time": "2024-05-17T20:24:56.360Z"
   },
   {
    "duration": 43,
    "start_time": "2024-05-17T20:24:56.369Z"
   },
   {
    "duration": 6,
    "start_time": "2024-05-17T20:24:56.416Z"
   },
   {
    "duration": 5,
    "start_time": "2024-05-17T20:24:56.426Z"
   },
   {
    "duration": 5,
    "start_time": "2024-05-17T20:24:56.434Z"
   },
   {
    "duration": 74,
    "start_time": "2024-05-17T20:24:56.447Z"
   },
   {
    "duration": 16,
    "start_time": "2024-05-17T20:24:56.524Z"
   },
   {
    "duration": 25,
    "start_time": "2024-05-17T20:24:56.544Z"
   },
   {
    "duration": 100,
    "start_time": "2024-05-17T20:24:56.572Z"
   },
   {
    "duration": 104,
    "start_time": "2024-05-17T20:24:56.675Z"
   },
   {
    "duration": 80,
    "start_time": "2024-05-17T20:24:56.782Z"
   },
   {
    "duration": 10,
    "start_time": "2024-05-17T20:24:56.864Z"
   },
   {
    "duration": 4,
    "start_time": "2024-05-17T20:24:56.877Z"
   },
   {
    "duration": 36,
    "start_time": "2024-05-17T20:24:56.885Z"
   },
   {
    "duration": 9,
    "start_time": "2024-05-17T20:24:56.924Z"
   },
   {
    "duration": 14,
    "start_time": "2024-05-17T20:24:56.936Z"
   },
   {
    "duration": 14,
    "start_time": "2024-05-17T20:24:56.953Z"
   },
   {
    "duration": 45,
    "start_time": "2024-05-17T20:24:56.969Z"
   },
   {
    "duration": 22,
    "start_time": "2024-05-17T20:24:57.018Z"
   },
   {
    "duration": 20,
    "start_time": "2024-05-17T20:24:57.043Z"
   },
   {
    "duration": 58,
    "start_time": "2024-05-17T20:24:57.065Z"
   },
   {
    "duration": 18,
    "start_time": "2024-05-17T20:24:57.127Z"
   },
   {
    "duration": 25,
    "start_time": "2024-05-17T20:24:57.147Z"
   },
   {
    "duration": 44,
    "start_time": "2024-05-17T20:24:57.178Z"
   },
   {
    "duration": 341,
    "start_time": "2024-05-17T20:30:19.148Z"
   },
   {
    "duration": 9,
    "start_time": "2024-05-17T20:30:25.973Z"
   },
   {
    "duration": 9,
    "start_time": "2024-05-17T20:30:29.774Z"
   },
   {
    "duration": 15,
    "start_time": "2024-05-17T20:30:34.289Z"
   },
   {
    "duration": 7,
    "start_time": "2024-05-17T20:33:14.730Z"
   },
   {
    "duration": 3,
    "start_time": "2024-05-17T20:33:18.580Z"
   },
   {
    "duration": 6,
    "start_time": "2024-05-17T20:33:25.859Z"
   },
   {
    "duration": 339,
    "start_time": "2024-05-17T21:08:07.573Z"
   },
   {
    "duration": 474,
    "start_time": "2024-05-17T21:08:11.733Z"
   },
   {
    "duration": 193,
    "start_time": "2024-05-17T21:08:12.769Z"
   },
   {
    "duration": 22,
    "start_time": "2024-05-17T21:08:14.415Z"
   },
   {
    "duration": 174,
    "start_time": "2024-05-17T21:08:52.512Z"
   },
   {
    "duration": 3,
    "start_time": "2024-05-17T21:10:44.467Z"
   },
   {
    "duration": 193,
    "start_time": "2024-05-17T21:10:45.392Z"
   },
   {
    "duration": 18,
    "start_time": "2024-05-17T21:10:46.946Z"
   },
   {
    "duration": 205,
    "start_time": "2024-05-17T21:10:49.073Z"
   },
   {
    "duration": 11,
    "start_time": "2024-05-17T21:10:54.749Z"
   },
   {
    "duration": 5,
    "start_time": "2024-05-17T21:10:57.473Z"
   },
   {
    "duration": 6,
    "start_time": "2024-05-17T21:10:57.956Z"
   },
   {
    "duration": 6,
    "start_time": "2024-05-17T21:11:00.318Z"
   },
   {
    "duration": 5,
    "start_time": "2024-05-17T21:11:01.391Z"
   },
   {
    "duration": 26,
    "start_time": "2024-05-17T21:11:06.140Z"
   },
   {
    "duration": 15,
    "start_time": "2024-05-17T21:11:09.473Z"
   },
   {
    "duration": 26,
    "start_time": "2024-05-17T21:11:10.446Z"
   },
   {
    "duration": 90,
    "start_time": "2024-05-17T21:11:13.695Z"
   },
   {
    "duration": 129,
    "start_time": "2024-05-17T21:11:16.452Z"
   },
   {
    "duration": 123,
    "start_time": "2024-05-17T21:13:17.958Z"
   },
   {
    "duration": 129,
    "start_time": "2024-05-17T21:13:52.960Z"
   },
   {
    "duration": 114,
    "start_time": "2024-05-17T21:14:00.926Z"
   },
   {
    "duration": 82,
    "start_time": "2024-05-17T21:14:07.518Z"
   },
   {
    "duration": 481,
    "start_time": "2024-05-17T21:14:21.316Z"
   },
   {
    "duration": 178,
    "start_time": "2024-05-17T21:14:22.932Z"
   },
   {
    "duration": 24,
    "start_time": "2024-05-17T21:14:23.673Z"
   },
   {
    "duration": 178,
    "start_time": "2024-05-17T21:14:25.463Z"
   },
   {
    "duration": 5,
    "start_time": "2024-05-17T21:14:29.987Z"
   },
   {
    "duration": 4,
    "start_time": "2024-05-17T21:14:31.483Z"
   },
   {
    "duration": 5,
    "start_time": "2024-05-17T21:14:31.763Z"
   },
   {
    "duration": 4,
    "start_time": "2024-05-17T21:14:34.355Z"
   },
   {
    "duration": 4,
    "start_time": "2024-05-17T21:14:35.094Z"
   },
   {
    "duration": 37,
    "start_time": "2024-05-17T21:14:45.192Z"
   },
   {
    "duration": 17,
    "start_time": "2024-05-17T21:14:47.948Z"
   },
   {
    "duration": 24,
    "start_time": "2024-05-17T21:14:48.800Z"
   },
   {
    "duration": 76,
    "start_time": "2024-05-17T21:14:55.650Z"
   },
   {
    "duration": 96,
    "start_time": "2024-05-17T21:14:58.575Z"
   },
   {
    "duration": 70,
    "start_time": "2024-05-17T21:15:09.378Z"
   },
   {
    "duration": 89,
    "start_time": "2024-05-17T21:16:05.060Z"
   },
   {
    "duration": 102,
    "start_time": "2024-05-17T21:16:11.516Z"
   },
   {
    "duration": 10,
    "start_time": "2024-05-17T21:16:32.143Z"
   },
   {
    "duration": 11,
    "start_time": "2024-05-17T21:16:44.855Z"
   },
   {
    "duration": 10,
    "start_time": "2024-05-17T21:16:52.837Z"
   },
   {
    "duration": 12,
    "start_time": "2024-05-17T21:17:51.252Z"
   },
   {
    "duration": 17,
    "start_time": "2024-05-17T21:18:19.689Z"
   },
   {
    "duration": 19,
    "start_time": "2024-05-17T21:18:55.727Z"
   },
   {
    "duration": 18,
    "start_time": "2024-05-17T21:19:05.450Z"
   },
   {
    "duration": 17,
    "start_time": "2024-05-17T21:19:35.867Z"
   },
   {
    "duration": 9,
    "start_time": "2024-05-17T21:20:37.450Z"
   },
   {
    "duration": 23,
    "start_time": "2024-05-17T21:20:42.124Z"
   },
   {
    "duration": 26,
    "start_time": "2024-05-17T21:20:44.036Z"
   },
   {
    "duration": 20,
    "start_time": "2024-05-17T21:20:45.296Z"
   },
   {
    "duration": 21,
    "start_time": "2024-05-17T21:20:47.123Z"
   },
   {
    "duration": 31,
    "start_time": "2024-05-17T21:20:48.165Z"
   },
   {
    "duration": 19,
    "start_time": "2024-05-17T21:20:49.044Z"
   },
   {
    "duration": 457,
    "start_time": "2024-05-17T21:21:54.227Z"
   },
   {
    "duration": 206,
    "start_time": "2024-05-17T21:21:55.296Z"
   },
   {
    "duration": 21,
    "start_time": "2024-05-17T21:21:56.788Z"
   },
   {
    "duration": 211,
    "start_time": "2024-05-17T21:21:59.969Z"
   },
   {
    "duration": 4,
    "start_time": "2024-05-17T21:22:08.736Z"
   },
   {
    "duration": 5,
    "start_time": "2024-05-17T21:22:15.342Z"
   },
   {
    "duration": 5,
    "start_time": "2024-05-17T21:22:16.662Z"
   },
   {
    "duration": 6,
    "start_time": "2024-05-17T21:22:18.735Z"
   },
   {
    "duration": 4,
    "start_time": "2024-05-17T21:22:20.604Z"
   },
   {
    "duration": 26,
    "start_time": "2024-05-17T21:22:23.480Z"
   },
   {
    "duration": 200,
    "start_time": "2024-05-17T21:23:03.946Z"
   },
   {
    "duration": 180,
    "start_time": "2024-05-17T21:23:47.604Z"
   },
   {
    "duration": 19,
    "start_time": "2024-05-17T21:23:56.166Z"
   },
   {
    "duration": 26,
    "start_time": "2024-05-17T21:23:57.048Z"
   },
   {
    "duration": 75,
    "start_time": "2024-05-17T21:23:59.887Z"
   },
   {
    "duration": 128,
    "start_time": "2024-05-17T21:24:01.517Z"
   },
   {
    "duration": 97,
    "start_time": "2024-05-17T21:24:12.285Z"
   },
   {
    "duration": 102,
    "start_time": "2024-05-17T21:24:21.195Z"
   },
   {
    "duration": 89,
    "start_time": "2024-05-17T21:24:33.674Z"
   },
   {
    "duration": 12,
    "start_time": "2024-05-17T21:24:35.668Z"
   },
   {
    "duration": 5,
    "start_time": "2024-05-17T21:24:41.406Z"
   },
   {
    "duration": 14,
    "start_time": "2024-05-17T21:24:43.834Z"
   },
   {
    "duration": 10,
    "start_time": "2024-05-17T21:24:44.688Z"
   },
   {
    "duration": 139,
    "start_time": "2024-05-17T21:25:11.193Z"
   },
   {
    "duration": 12,
    "start_time": "2024-05-17T21:25:29.245Z"
   },
   {
    "duration": 18,
    "start_time": "2024-05-17T21:25:42.728Z"
   },
   {
    "duration": 14,
    "start_time": "2024-05-17T21:25:49.201Z"
   },
   {
    "duration": 5,
    "start_time": "2024-05-17T21:26:00.775Z"
   },
   {
    "duration": 22,
    "start_time": "2024-05-17T21:26:05.970Z"
   },
   {
    "duration": 24,
    "start_time": "2024-05-17T21:26:06.668Z"
   },
   {
    "duration": 22,
    "start_time": "2024-05-17T21:26:07.044Z"
   },
   {
    "duration": 26,
    "start_time": "2024-05-17T21:26:07.238Z"
   },
   {
    "duration": 25,
    "start_time": "2024-05-17T21:26:07.421Z"
   },
   {
    "duration": 19,
    "start_time": "2024-05-17T21:26:08.786Z"
   }
  ],
  "colab": {
   "collapsed_sections": [
    "E0vqbgi9ay0H",
    "VUC88oWjTJw2"
   ],
   "provenance": []
  },
  "kernelspec": {
   "display_name": "Python 3 (ipykernel)",
   "language": "python",
   "name": "python3"
  },
  "language_info": {
   "codemirror_mode": {
    "name": "ipython",
    "version": 3
   },
   "file_extension": ".py",
   "mimetype": "text/x-python",
   "name": "python",
   "nbconvert_exporter": "python",
   "pygments_lexer": "ipython3",
   "version": "3.12.3"
  },
  "toc": {
   "base_numbering": 1,
   "nav_menu": {},
   "number_sections": true,
   "sideBar": true,
   "skip_h1_title": true,
   "title_cell": "Table of Contents",
   "title_sidebar": "Contents",
   "toc_cell": false,
   "toc_position": {},
   "toc_section_display": true,
   "toc_window_display": false
  }
 },
 "nbformat": 4,
 "nbformat_minor": 1
}
